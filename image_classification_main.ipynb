{
  "nbformat": 4,
  "nbformat_minor": 0,
  "metadata": {
    "accelerator": "GPU",
    "colab": {
      "name": "image_classification_main.ipynb",
      "provenance": [],
      "collapsed_sections": []
    },
    "kernelspec": {
      "display_name": "Python 3",
      "language": "python",
      "name": "python3"
    },
    "language_info": {
      "codemirror_mode": {
        "name": "ipython",
        "version": 3
      },
      "file_extension": ".py",
      "mimetype": "text/x-python",
      "name": "python",
      "nbconvert_exporter": "python",
      "pygments_lexer": "ipython3",
      "version": "3.6.10"
    }
  },
  "cells": [
    {
      "cell_type": "markdown",
      "metadata": {
        "id": "view-in-github"
      },
      "source": [
        "<a href=\"https://colab.research.google.com/github/JoaoGranja/CIFAR10_ImageClassification/blob/master/image_classification_main.ipynb\" target=\"_parent\"><img src=\"https://colab.research.google.com/assets/colab-badge.svg\" alt=\"Open In Colab\"/></a>"
      ]
    },
    {
      "cell_type": "code",
      "metadata": {
        "id": "fug7eGzTzLbg"
      },
      "source": [
        "import numpy as np # linear algebra\n",
        "import pandas as pd # data processing, CSV file I/O (e.g. pd.read_csv)\n",
        "import os\n",
        "is_colab = True"
      ],
      "execution_count": null,
      "outputs": []
    },
    {
      "cell_type": "markdown",
      "metadata": {
        "id": "6PycgYA0ppQa"
      },
      "source": [
        "\n",
        "# **Colab Preparation** \n",
        "Before handling the project, we need to install keras and pip packages. I also share my google drive to simplify the connection with my google drive account.\n",
        "\n"
      ]
    },
    {
      "cell_type": "code",
      "metadata": {
        "colab": {
          "base_uri": "https://localhost:8080/"
        },
        "id": "8j5egONdppQb",
        "outputId": "bcd29bed-9846-4589-f733-1087795e150e"
      },
      "source": [
        "if is_colab:\n",
        "    #Package Installation and share Google Drive\n",
        "    !pip install --upgrade pip\n",
        "    !pip install --upgrade keras\n",
        "    !pip install keras-resnet\n",
        "\n",
        "    from google.colab import drive\n",
        "    drive.mount('/content/drive')"
      ],
      "execution_count": null,
      "outputs": [
        {
          "output_type": "stream",
          "text": [
            "Requirement already satisfied: pip in /usr/local/lib/python3.7/dist-packages (21.1.3)\n",
            "Requirement already satisfied: keras in /usr/local/lib/python3.7/dist-packages (2.4.3)\n",
            "Requirement already satisfied: h5py in /usr/local/lib/python3.7/dist-packages (from keras) (3.1.0)\n",
            "Requirement already satisfied: numpy>=1.9.1 in /usr/local/lib/python3.7/dist-packages (from keras) (1.19.5)\n",
            "Requirement already satisfied: pyyaml in /usr/local/lib/python3.7/dist-packages (from keras) (3.13)\n",
            "Requirement already satisfied: scipy>=0.14 in /usr/local/lib/python3.7/dist-packages (from keras) (1.4.1)\n",
            "Requirement already satisfied: cached-property in /usr/local/lib/python3.7/dist-packages (from h5py->keras) (1.5.2)\n",
            "Requirement already satisfied: keras-resnet in /usr/local/lib/python3.7/dist-packages (0.2.0)\n",
            "Requirement already satisfied: keras>=2.2.4 in /usr/local/lib/python3.7/dist-packages (from keras-resnet) (2.4.3)\n",
            "Requirement already satisfied: pyyaml in /usr/local/lib/python3.7/dist-packages (from keras>=2.2.4->keras-resnet) (3.13)\n",
            "Requirement already satisfied: h5py in /usr/local/lib/python3.7/dist-packages (from keras>=2.2.4->keras-resnet) (3.1.0)\n",
            "Requirement already satisfied: scipy>=0.14 in /usr/local/lib/python3.7/dist-packages (from keras>=2.2.4->keras-resnet) (1.4.1)\n",
            "Requirement already satisfied: numpy>=1.9.1 in /usr/local/lib/python3.7/dist-packages (from keras>=2.2.4->keras-resnet) (1.19.5)\n",
            "Requirement already satisfied: cached-property in /usr/local/lib/python3.7/dist-packages (from h5py->keras>=2.2.4->keras-resnet) (1.5.2)\n",
            "Drive already mounted at /content/drive; to attempt to forcibly remount, call drive.mount(\"/content/drive\", force_remount=True).\n"
          ],
          "name": "stdout"
        }
      ]
    },
    {
      "cell_type": "markdown",
      "metadata": {
        "id": "NToyjnZ4Uc2k"
      },
      "source": [
        " # **Configuration and imports**\n",
        "\n",
        "First thing I do is to import all modules we need for this project. I also use some configuration parameters to be used through the project\n",
        "\n",
        "In this project I will be making use of the Keras library for creating our model and training it. I will also use Matplotlib and Seaborn for visualizing our dataset to gain a better understanding of the images we are going to be handling. Another important library to handle image data is Opencv.\n",
        "\n"
      ]
    },
    {
      "cell_type": "code",
      "metadata": {
        "id": "Rk78b8REzLbl"
      },
      "source": [
        "# Generic Imports\n",
        "import time\n",
        "import gc\n",
        "import logging, os\n",
        "import sys\n",
        "import random\n",
        "import warnings\n",
        "import pickle\n",
        "from math import ceil\n",
        "from tqdm import tqdm\n",
        "from itertools import chain\n",
        "\n",
        "# data processing and visualization library\n",
        "import numpy as np\n",
        "import pandas as pd\n",
        "import seaborn as sns\n",
        "import matplotlib.pyplot as plt\n",
        "\n",
        "# image procesing library\n",
        "from skimage.io import imread, imshow, imread_collection, concatenate_images\n",
        "from skimage.transform import resize\n",
        "from skimage.morphology import label\n",
        "import cv2 \n",
        "\n",
        "# tensorflow and keras for CNN model\n",
        "import tensorflow as tf\n",
        "logging.disable(logging.WARNING)\n",
        "os.environ[\"TF_CPP_MIN_LOG_LEVEL\"] = \"3\"\n",
        "\n",
        "import keras\n",
        "from keras.models import Model, load_model, Sequential\n",
        "from keras.callbacks import EarlyStopping, ModelCheckpoint, TensorBoard, ReduceLROnPlateau\n",
        "from keras.optimizers import RMSprop, Adam, SGD\n",
        "from keras import backend as K\n",
        "from keras.losses import categorical_crossentropy, sparse_categorical_crossentropy\n",
        "from keras.datasets import cifar10\n",
        "#from keras.utils import multi_gpu_model\n",
        "from keras.preprocessing.image import Iterator, load_img, img_to_array\n",
        "\n",
        "if is_colab:\n",
        "    from google.colab import files\n",
        "    sys.path.append('/content/drive/MyDrive/colab/CIFAR10_Image_Classification')\n",
        "    os.chdir('/content/drive/MyDrive/colab/CIFAR10_Image_Classification')\n",
        "    \n",
        "#------------------------------  Set some configuration parameters -----------------------------------#\n",
        "args = {}\n",
        "args['seed'] = 42\n",
        "args['data_augmentation'] = False\n",
        "\n",
        "#training arguments\n",
        "args['batch_size'] = 32\n",
        "args['epochs'] = 10\n",
        "args['validation_split'] = 0.2\n",
        "\n",
        "#model arguments\n",
        "args['networks'] = ['leNet', 'VGG16', 'VGG19']\n",
        "#args['networks'] = ['VGG16']\n",
        "\n",
        "#optimizer arguments\n",
        "args['optimizer'] = 'adam'\n",
        "args['learning_rate'] = 0.001\n",
        "args['decay'] = 0.0001\n",
        "args['loss'] = 'sparse_categorical_crossentropy'\n",
        "\n",
        "warnings.filterwarnings('ignore', category=UserWarning, module='skimage')"
      ],
      "execution_count": null,
      "outputs": []
    },
    {
      "cell_type": "markdown",
      "metadata": {
        "id": "tjI2CcCKppQe"
      },
      "source": [
        "## Loading the dataset\n",
        "\n",
        "In this project I will use the CIFAR10 dataset which is comprised of 60000 32x32 color images in 10 classes, with 6000 images per class. There are 50000 training images and 10000 test images. The class labels and their standard associated integer values are listed below. More information is available on [CIFAR homepage](https://www.cs.toronto.edu/~kriz/cifar.html)\n",
        "\n",
        "<ul>\n",
        "<li> 0: airplane </li>\n",
        "<li> 1: automobile </li>\n",
        "<li> 2: bird </li>\n",
        "<li> 3: cat </li>\n",
        "<li> 4: deer </li>\n",
        "<li> 5: dog </li>\n",
        "<li> 6: frog </li>\n",
        "<li> 7: horse </li>\n",
        "<li> 8: ship </li>\n",
        "<li> 9: truck </li>\n",
        "</ul>"
      ]
    },
    {
      "cell_type": "code",
      "metadata": {
        "id": "32RfKAg6ppQf"
      },
      "source": [
        "def unpickle(file):\n",
        "    with open(file, 'rb') as data:\n",
        "        dataset = pickle.load(data)\n",
        "    return dataset"
      ],
      "execution_count": null,
      "outputs": []
    },
    {
      "cell_type": "code",
      "metadata": {
        "colab": {
          "base_uri": "https://localhost:8080/"
        },
        "id": "_T8_V1PqppQg",
        "outputId": "ba6bf520-e8f2-4bcd-d5d1-40134bb101f8"
      },
      "source": [
        "#------------------------------  Load dataset using keras.dataset API -----------------------------------#\n",
        "download_dataset = False\n",
        "if download_dataset:\n",
        "    (x_train, y_train), (x_test, y_test) = cifar10.load_data()\n",
        "    dataset = {}\n",
        "    dataset['x_train'], dataset['y_train'], dataset['x_test'], dataset['y_test'] = x_train, y_train, x_test, y_test\n",
        "    with open('dataset/cifar10.pickle', 'wb') as output:\n",
        "        pickle.dump(dataset, output)\n",
        "else:\n",
        "    dataset = unpickle('dataset/cifar10.pickle')\n",
        "    #(x_train, y_train), (x_test, y_test) = (dataset['x_train'][:5000], dataset['y_train'][:5000]), (dataset['x_test'][:1000], dataset['y_test'][:1000])\n",
        "    (x_train, y_train), (x_test, y_test) = (dataset['x_train'], dataset['y_train']), (dataset['x_test'], dataset['y_test'])\n",
        "\n",
        "\n",
        "#Check train and test dataset shape\n",
        "print(\"Train dataset: x={} y={}\".format(x_train.shape, y_train.shape))\n",
        "print(\"Test dataset: x={} y={}\".format(x_test.shape, y_test.shape))\n",
        "\n",
        "#Check number of classes and image shape\n",
        "print(\"Image data shape =\", x_train.shape[1:])\n",
        "nr_classes = len(np.unique(y_train))\n",
        "print(\"Number of classes =\", nr_classes )\n",
        "\n",
        "#Class dictionary with classes names\n",
        "class_names = {}\n",
        "class_names[0] = 'airplane'\n",
        "class_names[1] = 'automobile'\n",
        "class_names[2] = 'bird'\n",
        "class_names[3] = 'cat'\n",
        "class_names[4] = 'deer'\n",
        "class_names[5] = 'dog'\n",
        "class_names[6] = 'frog'\n",
        "class_names[7] = 'horse'\n",
        "class_names[8] = 'ship'\n",
        "class_names[9] = 'truck'"
      ],
      "execution_count": null,
      "outputs": [
        {
          "output_type": "stream",
          "text": [
            "Train dataset: x=(50000, 32, 32, 3) y=(50000, 1)\n",
            "Test dataset: x=(10000, 32, 32, 3) y=(10000, 1)\n",
            "Image data shape = (32, 32, 3)\n",
            "Number of classes = 10\n"
          ],
          "name": "stdout"
        }
      ]
    },
    {
      "cell_type": "code",
      "metadata": {
        "colab": {
          "base_uri": "https://localhost:8080/",
          "height": 180
        },
        "id": "2v20CtzuppQj",
        "outputId": "14b1347d-e55c-4069-e498-8ec4ddfe7eee"
      },
      "source": [
        "#------------------------------ Plot random images and respective labels -----------------------------------#\n",
        "n_images = 5\n",
        "fig, axs = plt.subplots(1, n_images, figsize=(12, 12))\n",
        "fig.tight_layout(pad=1.0)\n",
        "   \n",
        "for i in range(n_images):\n",
        "    index = random.randint(0, len(x_train))\n",
        "    image = x_train[index].squeeze()\n",
        "\n",
        "    axs[i].imshow(image)\n",
        "    axs[i].set_title(\"Label = {0}\".format(class_names[int(y_train[index])]))\n",
        "    axs[i].get_xaxis().set_visible(False)\n",
        "    axs[i].get_yaxis().set_visible(False)\n"
      ],
      "execution_count": null,
      "outputs": [
        {
          "output_type": "display_data",
          "data": {
            "image/png": "[encoded data removed]",
            "text/plain": [
              "<Figure size 864x864 with 5 Axes>"
            ]
          },
          "metadata": {
            "tags": [],
            "needs_background": "light"
          }
        }
      ]
    },
    {
      "cell_type": "markdown",
      "metadata": {
        "id": "hLijVktappQk"
      },
      "source": [
        "Analyzing the images it is clear that the images resolution is small, actually 32x32 has few pixels and therefore can be a challenge for a model to classify correctly the object. Furthermore all image has the same size so it is not required to resize the input images."
      ]
    },
    {
      "cell_type": "markdown",
      "metadata": {
        "id": "Q9i_voo8zLbs"
      },
      "source": [
        "# **Pre-processing the train and test dataset**"
      ]
    },
    {
      "cell_type": "code",
      "metadata": {
        "colab": {
          "base_uri": "https://localhost:8080/"
        },
        "id": "YZGByJN1ppQo",
        "outputId": "512c242c-4dc5-47a7-aa9c-1fa5a44daeb0"
      },
      "source": [
        "from aug.functional import transform_image, normalize_image\n",
        "x_train_ = x_train\n",
        "y_train_ = y_train\n",
        "\n",
        "#------------------------------ Random data augmentation -----------------------------------#\n",
        "if args['data_augmentation']:\n",
        "    data_aug_samples = 2\n",
        "    for i in range(data_aug_samples):\n",
        "        x_train_ = np.vstack((x_train_,transform_image(x_train)))\n",
        "        y_train_ = np.vstack((y_train_,y_train))\n",
        "\n",
        "    #Check train dataset shape\n",
        "    print(\"Train dataset: x={} y={}\".format(x_train_.shape, y_train_.shape))\n",
        "\n",
        "#------------------------------ Normalization of images dataset -----------------------------------#\n",
        "x_test_norm = normalize_image(x_test)\n",
        "x_train_norm = normalize_image(x_train_)\n",
        "\n",
        "#------------------------------ Remove old varibles -----------------------------------#\n",
        "del x_test, x_train, y_train, x_train_\n",
        "x_train, y_train, x_test = x_train_norm, y_train_, x_test_norm\n",
        "del x_train_norm, y_train_, x_test_norm\n",
        "gc.collect\n"
      ],
      "execution_count": null,
      "outputs": [
        {
          "output_type": "execute_result",
          "data": {
            "text/plain": [
              "<function gc.collect>"
            ]
          },
          "metadata": {
            "tags": []
          },
          "execution_count": 7
        }
      ]
    },
    {
      "cell_type": "markdown",
      "metadata": {
        "id": "_QCnufRUl-Z5"
      },
      "source": [
        "# **Optimizer**\n",
        "\n",
        "Before training it is necessary to choose an optimizer which will be responsible to adjust model parameters in order to reduce the loss funcion"
      ]
    },
    {
      "cell_type": "code",
      "metadata": {
        "id": "INAQZOJSphOA"
      },
      "source": [
        "#------------------------------ Define an optimizer -----------------------------------#\n",
        "if 'optimizer' in args:\n",
        "    if args['optimizer'] == 'rmsprop':\n",
        "        optimizer = RMSprop(learning_rate=args['learning_rate'], decay=float(args['decay']))\n",
        "    elif args['optimizer'] == 'adam':\n",
        "        optimizer = Adam(learning_rate=args['learning_rate'], decay=float(args['decay']))\n",
        "    elif args['optimizer'] == 'amsgrad':\n",
        "        optimizer = Adam(learning_rate=args['learning_rate'], decay=float(args['decay']), amsgrad=True)\n",
        "    elif args['optimizer'] == 'sgd':\n",
        "        optimizer = SGD(learning_rate=args['learning_rate'], momentum=0.9, nesterov=True, decay=float(args['decay']))\n",
        "else:\n",
        "    optimizer = RMSprop(learning_rate=args['learning_rate'])"
      ],
      "execution_count": null,
      "outputs": []
    },
    {
      "cell_type": "markdown",
      "metadata": {
        "id": "sWLJo5_bppQs"
      },
      "source": [
        "# **Model**\n",
        "\n",
        "In this project, I will first use a simple CNN model following the LeNet architecture."
      ]
    },
    {
      "cell_type": "code",
      "metadata": {
        "colab": {
          "base_uri": "https://localhost:8080/"
        },
        "id": "gd5VM-R-Su0_",
        "outputId": "96665922-7b6a-4426-d849-c9d961d22a58"
      },
      "source": [
        "from models.model_factory import make_model\n",
        "\n",
        "models = []\n",
        "for network in args['networks']:\n",
        "  #------------------------------ Make the model -----------------------------------#\n",
        "  if 'multi_gpu' in args:\n",
        "    device_name = tf.test.gpu_device_name()\n",
        "    if device_name != '/device:GPU:0':\n",
        "      print(\n",
        "        '\\n\\nThis error most likely means that this notebook is not '\n",
        "        'configured to use a GPU.  Change this in Notebook Settings via the '\n",
        "        'command palette (cmd/ctrl-shift-P) or the Edit menu.\\n\\n')\n",
        "      raise SystemError('GPU device not found')\n",
        "\n",
        "      with K.tf.device(\"/cpu:0\"):\n",
        "          model = make_model(network, x_train.shape[1:])\n",
        "  else:\n",
        "      model = make_model(network, x_train.shape[1:], nr_classes)\n",
        "      \n",
        "  if 'weights' not in args:\n",
        "      print('No weights passed, training from scratch')\n",
        "  else:\n",
        "      weights_path = args['weights']\n",
        "      print('Loading weights from {}'.format(weights_path))\n",
        "      model.load_weights(weights_path, by_name=True)\n",
        "\n",
        "  #------------------------------ Compile the model -----------------------------------#\n",
        "  model.compile(loss=args['loss'], optimizer=optimizer, metrics=['accuracy']) \n",
        "  model.summary()\n",
        "  models.append(model)"
      ],
      "execution_count": null,
      "outputs": [
        {
          "output_type": "stream",
          "text": [
            "No weights passed, training from scratch\n",
            "Model: \"LeNet\"\n",
            "_________________________________________________________________\n",
            "Layer (type)                 Output Shape              Param #   \n",
            "=================================================================\n",
            "input_1 (InputLayer)         [(None, 32, 32, 3)]       0         \n",
            "_________________________________________________________________\n",
            "conv2d (Conv2D)              (None, 32, 32, 16)        1216      \n",
            "_________________________________________________________________\n",
            "max_pooling2d (MaxPooling2D) (None, 16, 16, 16)        0         \n",
            "_________________________________________________________________\n",
            "conv2d_1 (Conv2D)            (None, 16, 16, 32)        12832     \n",
            "_________________________________________________________________\n",
            "max_pooling2d_1 (MaxPooling2 (None, 8, 8, 32)          0         \n",
            "_________________________________________________________________\n",
            "conv2d_2 (Conv2D)            (None, 8, 8, 64)          18496     \n",
            "_________________________________________________________________\n",
            "max_pooling2d_2 (MaxPooling2 (None, 4, 4, 64)          0         \n",
            "_________________________________________________________________\n",
            "conv2d_3 (Conv2D)            (None, 4, 4, 128)         73856     \n",
            "_________________________________________________________________\n",
            "max_pooling2d_3 (MaxPooling2 (None, 2, 2, 128)         0         \n",
            "_________________________________________________________________\n",
            "conv2d_4 (Conv2D)            (None, 2, 2, 256)         295168    \n",
            "_________________________________________________________________\n",
            "max_pooling2d_4 (MaxPooling2 (None, 1, 1, 256)         0         \n",
            "_________________________________________________________________\n",
            "flatten (Flatten)            (None, 256)               0         \n",
            "_________________________________________________________________\n",
            "dense (Dense)                (None, 1000)              257000    \n",
            "_________________________________________________________________\n",
            "dense_1 (Dense)              (None, 100)               100100    \n",
            "_________________________________________________________________\n",
            "dense_2 (Dense)              (None, 10)                1010      \n",
            "=================================================================\n",
            "Total params: 759,678\n",
            "Trainable params: 759,678\n",
            "Non-trainable params: 0\n",
            "_________________________________________________________________\n",
            "No weights passed, training from scratch\n",
            "Model: \"VGG16\"\n",
            "_________________________________________________________________\n",
            "Layer (type)                 Output Shape              Param #   \n",
            "=================================================================\n",
            "module_wrapper (ModuleWrappe (None, 1, 1, 512)         14714688  \n",
            "_________________________________________________________________\n",
            "flatten_1 (Flatten)          (None, 512)               0         \n",
            "_________________________________________________________________\n",
            "dense_3 (Dense)              (None, 10)                5130      \n",
            "=================================================================\n",
            "Total params: 14,719,818\n",
            "Trainable params: 14,719,818\n",
            "Non-trainable params: 0\n",
            "_________________________________________________________________\n",
            "No weights passed, training from scratch\n",
            "Model: \"VGG19\"\n",
            "_________________________________________________________________\n",
            "Layer (type)                 Output Shape              Param #   \n",
            "=================================================================\n",
            "module_wrapper_1 (ModuleWrap (None, 1, 1, 512)         20024384  \n",
            "_________________________________________________________________\n",
            "flatten_2 (Flatten)          (None, 512)               0         \n",
            "_________________________________________________________________\n",
            "dense_4 (Dense)              (None, 10)                5130      \n",
            "=================================================================\n",
            "Total params: 20,029,514\n",
            "Trainable params: 20,029,514\n",
            "Non-trainable params: 0\n",
            "_________________________________________________________________\n"
          ],
          "name": "stdout"
        }
      ]
    },
    {
      "cell_type": "markdown",
      "metadata": {
        "id": "mSADHpegzLb-"
      },
      "source": [
        "# **Training**"
      ]
    },
    {
      "cell_type": "code",
      "metadata": {
        "colab": {
          "base_uri": "https://localhost:8080/"
        },
        "id": "cSWGGh32Svnu",
        "outputId": "811c20e2-dfec-47bd-9f20-fdd6d0790011"
      },
      "source": [
        "args['models_dir'] = 'nn_models_checkpoints'\n",
        "\n",
        "histories = []\n",
        "for model in models:\n",
        "  print(\"Training model {}\".format(model.name))\n",
        "  #------------------------------ Model check points -----------------------------------#\n",
        "  best_model_file = '{}/best_{}.h5'.format(args['models_dir'], model.name)\n",
        "  last_model_file = '{}/last_{}.h5'.format(args['models_dir'], model.name)\n",
        "\n",
        "  #------------------------------ Callbacks -----------------------------------#\n",
        "  callbacks = [\n",
        "          # Callback to reduce the learning rate once the plateau has been reached:\n",
        "          ReduceLROnPlateau(\n",
        "              monitor='val_loss',\n",
        "              factor=1/3,\n",
        "              patience=2,\n",
        "              mode='auto',\n",
        "              verbose=1,\n",
        "              cooldown=0,\n",
        "              min_lr=1e-8\n",
        "          ),\n",
        "          # Callback to stop the training once no more improvements are recorded:\n",
        "          EarlyStopping(\n",
        "              min_delta=0.001,\n",
        "              verbose=1,\n",
        "              patience=5,\n",
        "              mode='auto',\n",
        "              restore_best_weights=True\n",
        "          ),\n",
        "          # Callback to log the graph, losses and metrics into TensorBoard:\n",
        "          TensorBoard(log_dir=\"logs/{}\".format(model.name)\n",
        "          ),\n",
        "          # Callback to save the best and last model specifying the epoch and val-loss in the filename:\n",
        "          ModelCheckpoint(filepath=last_model_file, \n",
        "              monitor='val_loss',\n",
        "              verbose=1,\n",
        "              mode='min',\n",
        "              save_freq='epoch',\n",
        "              save_best_only=False,\n",
        "              save_weights_only=True\n",
        "          ),\n",
        "          ModelCheckpoint(filepath=best_model_file, \n",
        "              monitor='val_loss',\n",
        "              verbose=1,\n",
        "              mode='min',\n",
        "              save_freq='epoch',\n",
        "              save_best_only=True,\n",
        "              save_weights_only=True)\n",
        "      ]\n",
        "\n",
        "  #------------------------------ Model Fit -----------------------------------#\n",
        "  history = model.fit(x_train, y_train,\n",
        "                      validation_split=args['validation_split'],\n",
        "                      epochs=args['epochs'], \n",
        "                      batch_size=args['batch_size'], \n",
        "                      verbose=1,\n",
        "                      callbacks=callbacks)\n",
        "  histories.append(history)"
      ],
      "execution_count": null,
      "outputs": [
        {
          "output_type": "stream",
          "text": [
            "Training model LeNet\n",
            "Epoch 1/10\n",
            "1250/1250 [==============================] - 34s 15ms/step - loss: 1.7944 - accuracy: 0.3224 - val_loss: 1.2198 - val_accuracy: 0.5678\n",
            "\n",
            "Epoch 00001: saving model to nn_models_checkpoints/last_LeNet.h5\n",
            "\n",
            "Epoch 00001: val_loss improved from inf to 1.21982, saving model to nn_models_checkpoints/best_LeNet.h5\n",
            "Epoch 2/10\n",
            "1250/1250 [==============================] - 17s 13ms/step - loss: 1.1746 - accuracy: 0.5747 - val_loss: 1.0248 - val_accuracy: 0.6381\n",
            "\n",
            "Epoch 00002: saving model to nn_models_checkpoints/last_LeNet.h5\n",
            "\n",
            "Epoch 00002: val_loss improved from 1.21982 to 1.02478, saving model to nn_models_checkpoints/best_LeNet.h5\n",
            "Epoch 3/10\n",
            "1250/1250 [==============================] - 15s 12ms/step - loss: 0.9410 - accuracy: 0.6619 - val_loss: 0.9147 - val_accuracy: 0.6733\n",
            "\n",
            "Epoch 00003: saving model to nn_models_checkpoints/last_LeNet.h5\n",
            "\n",
            "Epoch 00003: val_loss improved from 1.02478 to 0.91472, saving model to nn_models_checkpoints/best_LeNet.h5\n",
            "Epoch 4/10\n",
            "1250/1250 [==============================] - 15s 12ms/step - loss: 0.7873 - accuracy: 0.7254 - val_loss: 0.9193 - val_accuracy: 0.6816\n",
            "\n",
            "Epoch 00004: saving model to nn_models_checkpoints/last_LeNet.h5\n",
            "\n",
            "Epoch 00004: val_loss did not improve from 0.91472\n",
            "Epoch 5/10\n",
            "1250/1250 [==============================] - 15s 12ms/step - loss: 0.6656 - accuracy: 0.7671 - val_loss: 0.8665 - val_accuracy: 0.6981\n",
            "\n",
            "Epoch 00005: saving model to nn_models_checkpoints/last_LeNet.h5\n",
            "\n",
            "Epoch 00005: val_loss improved from 0.91472 to 0.86653, saving model to nn_models_checkpoints/best_LeNet.h5\n",
            "Epoch 6/10\n",
            "1250/1250 [==============================] - 16s 13ms/step - loss: 0.5524 - accuracy: 0.8047 - val_loss: 0.8965 - val_accuracy: 0.6951\n",
            "\n",
            "Epoch 00006: saving model to nn_models_checkpoints/last_LeNet.h5\n",
            "\n",
            "Epoch 00006: val_loss did not improve from 0.86653\n",
            "Epoch 7/10\n",
            "1250/1250 [==============================] - 16s 13ms/step - loss: 0.4555 - accuracy: 0.8365 - val_loss: 0.8925 - val_accuracy: 0.7165\n",
            "\n",
            "Epoch 00007: ReduceLROnPlateau reducing learning rate to 0.0003333333491658171.\n",
            "\n",
            "Epoch 00007: saving model to nn_models_checkpoints/last_LeNet.h5\n",
            "\n",
            "Epoch 00007: val_loss did not improve from 0.86653\n",
            "Epoch 8/10\n",
            "1250/1250 [==============================] - 15s 12ms/step - loss: 0.2862 - accuracy: 0.9012 - val_loss: 1.0380 - val_accuracy: 0.7239\n",
            "\n",
            "Epoch 00008: saving model to nn_models_checkpoints/last_LeNet.h5\n",
            "\n",
            "Epoch 00008: val_loss did not improve from 0.86653\n",
            "Epoch 9/10\n",
            "1250/1250 [==============================] - 14s 12ms/step - loss: 0.1896 - accuracy: 0.9364 - val_loss: 1.1261 - val_accuracy: 0.7222\n",
            "\n",
            "Epoch 00009: ReduceLROnPlateau reducing learning rate to 0.00011111111962236464.\n",
            "\n",
            "Epoch 00009: saving model to nn_models_checkpoints/last_LeNet.h5\n",
            "\n",
            "Epoch 00009: val_loss did not improve from 0.86653\n",
            "Epoch 10/10\n",
            "1250/1250 [==============================] - 14s 12ms/step - loss: 0.1202 - accuracy: 0.9634 - val_loss: 1.2719 - val_accuracy: 0.7246\n",
            "Restoring model weights from the end of the best epoch.\n",
            "\n",
            "Epoch 00010: saving model to nn_models_checkpoints/last_LeNet.h5\n",
            "\n",
            "Epoch 00010: val_loss did not improve from 0.86653\n",
            "Epoch 00010: early stopping\n",
            "Training model VGG16\n",
            "Epoch 1/10\n",
            "1250/1250 [==============================] - 83s 64ms/step - loss: 1.1695 - accuracy: 0.5803 - val_loss: 0.6020 - val_accuracy: 0.7998\n",
            "\n",
            "Epoch 00001: saving model to nn_models_checkpoints/last_VGG16.h5\n",
            "\n",
            "Epoch 00001: val_loss improved from inf to 0.60204, saving model to nn_models_checkpoints/best_VGG16.h5\n",
            "Epoch 2/10\n",
            "1250/1250 [==============================] - 84s 67ms/step - loss: 0.4753 - accuracy: 0.8384 - val_loss: 0.4704 - val_accuracy: 0.8376\n",
            "\n",
            "Epoch 00002: saving model to nn_models_checkpoints/last_VGG16.h5\n",
            "\n",
            "Epoch 00002: val_loss improved from 0.60204 to 0.47043, saving model to nn_models_checkpoints/best_VGG16.h5\n",
            "Epoch 3/10\n",
            "1250/1250 [==============================] - 79s 63ms/step - loss: 0.3173 - accuracy: 0.8914 - val_loss: 0.4445 - val_accuracy: 0.8490\n",
            "\n",
            "Epoch 00003: saving model to nn_models_checkpoints/last_VGG16.h5\n",
            "\n",
            "Epoch 00003: val_loss improved from 0.47043 to 0.44450, saving model to nn_models_checkpoints/best_VGG16.h5\n",
            "Epoch 4/10\n",
            "1250/1250 [==============================] - 79s 63ms/step - loss: 0.2019 - accuracy: 0.9312 - val_loss: 0.4677 - val_accuracy: 0.8529\n",
            "\n",
            "Epoch 00004: saving model to nn_models_checkpoints/last_VGG16.h5\n",
            "\n",
            "Epoch 00004: val_loss did not improve from 0.44450\n",
            "Epoch 5/10\n",
            "1250/1250 [==============================] - 79s 63ms/step - loss: 0.1169 - accuracy: 0.9622 - val_loss: 0.5440 - val_accuracy: 0.8495\n",
            "\n",
            "Epoch 00005: ReduceLROnPlateau reducing learning rate to 3.703703987412155e-05.\n",
            "\n",
            "Epoch 00005: saving model to nn_models_checkpoints/last_VGG16.h5\n",
            "\n",
            "Epoch 00005: val_loss did not improve from 0.44450\n",
            "Epoch 6/10\n",
            "1250/1250 [==============================] - 84s 67ms/step - loss: 0.0473 - accuracy: 0.9863 - val_loss: 0.5593 - val_accuracy: 0.8655\n",
            "\n",
            "Epoch 00006: saving model to nn_models_checkpoints/last_VGG16.h5\n",
            "\n",
            "Epoch 00006: val_loss did not improve from 0.44450\n",
            "Epoch 7/10\n",
            "1250/1250 [==============================] - 79s 63ms/step - loss: 0.0168 - accuracy: 0.9961 - val_loss: 0.6369 - val_accuracy: 0.8667\n",
            "\n",
            "Epoch 00007: ReduceLROnPlateau reducing learning rate to 1.2345679958040515e-05.\n",
            "\n",
            "Epoch 00007: saving model to nn_models_checkpoints/last_VGG16.h5\n",
            "\n",
            "Epoch 00007: val_loss did not improve from 0.44450\n",
            "Epoch 8/10\n",
            "1250/1250 [==============================] - 84s 67ms/step - loss: 0.0055 - accuracy: 0.9988 - val_loss: 0.6752 - val_accuracy: 0.8688\n",
            "Restoring model weights from the end of the best epoch.\n",
            "\n",
            "Epoch 00008: saving model to nn_models_checkpoints/last_VGG16.h5\n",
            "\n",
            "Epoch 00008: val_loss did not improve from 0.44450\n",
            "Epoch 00008: early stopping\n",
            "Training model VGG19\n",
            "Epoch 1/10\n",
            "1250/1250 [==============================] - 105s 83ms/step - loss: 1.1362 - accuracy: 0.5962 - val_loss: 0.7056 - val_accuracy: 0.7523\n",
            "\n",
            "Epoch 00001: saving model to nn_models_checkpoints/last_VGG19.h5\n",
            "\n",
            "Epoch 00001: val_loss improved from inf to 0.70563, saving model to nn_models_checkpoints/best_VGG19.h5\n",
            "Epoch 2/10\n",
            " 731/1250 [================>.............] - ETA: 38s - loss: 0.6508 - accuracy: 0.7770"
          ],
          "name": "stdout"
        }
      ]
    },
    {
      "cell_type": "markdown",
      "metadata": {
        "id": "lI4rNBwYgXwv"
      },
      "source": [
        "# **Visualise Model Results**"
      ]
    },
    {
      "cell_type": "code",
      "metadata": {
        "id": "-tUF9-UtppQx"
      },
      "source": [
        "#------------------------------ Plot diagnostic learning curves -----------------------------------#\n",
        "def summarize_diagnostics(history):\n",
        "    # plot loss\n",
        "    acc = history.history['accuracy']\n",
        "    val_acc = history.history['val_accuracy']\n",
        "    loss = history.history['loss']\n",
        "    val_loss = history.history['val_loss']\n",
        "\n",
        "    epochs_range = range(len(acc))\n",
        "\n",
        "    plt.figure(figsize=(15, 15))\n",
        "    plt.subplot(2, 2, 1)\n",
        "    plt.plot(epochs_range, acc, label='Training Accuracy')\n",
        "    plt.plot(epochs_range, val_acc, label='Validation Accuracy')\n",
        "    plt.legend(loc='lower right')\n",
        "    plt.title('Training and Validation Accuracy')\n",
        "\n",
        "    plt.subplot(2, 2, 2)\n",
        "    plt.plot(epochs_range, loss, label='Training Loss')\n",
        "    plt.plot(epochs_range, val_loss, label='Validation Loss')\n",
        "    plt.legend(loc='upper right')\n",
        "    plt.title('Training and Validation Loss')\n",
        "    # save plot to file\n",
        "    filename = \"accuracy\"\n",
        "    plt.savefig(filename + '_plot.png')\n",
        "    plt.show()\n",
        "    plt.close()\n",
        "  \n",
        "for history in histories:\n",
        "  summarize_diagnostics(history)\n"
      ],
      "execution_count": null,
      "outputs": []
    },
    {
      "cell_type": "markdown",
      "metadata": {
        "id": "rg9NFaPNzLcH"
      },
      "source": [
        "# **Evaluation**\n",
        "\n",
        "Evaluate the model over the test dataset. We will use the last model weights and predict the class for some test images"
      ]
    },
    {
      "cell_type": "code",
      "metadata": {
        "id": "_HGuxPkippQy"
      },
      "source": [
        "del models\n",
        "gc.collect\n",
        "\n",
        "print( models)\n",
        "#------------------------------ Predict on some test images -----------------------------------#\n",
        "for network in args['networks']:\n",
        "  #Load last model parameters\n",
        "  last_model_file = '{}/last_{}.h5'.format(args['models_dir'], network)\n",
        "  print(last_model_file)\n",
        "  model.load_weights(last_model_file, by_name=True)\n",
        "\n",
        "  #Try out the model on an image from the test data:\n",
        "  n_images = 5\n",
        "  fig, axs = plt.subplots(1, n_images, figsize=(12, 12))\n",
        "  fig.tight_layout(pad=1.0)\n",
        "\n",
        "          \n",
        "  # View the images\n",
        "  for i in range(n_images):\n",
        "      index = random.randint(0, len(x_test))\n",
        "      image = x_test[index].squeeze()\n",
        "      true_index = int(y_test[index])\n",
        "\n",
        "      prediction_scores = model.predict(np.expand_dims(image, axis=0))\n",
        "      predicted_index = np.argmax(prediction_scores)\n",
        "      \n",
        "      image = np.add(image*128,128).astype(int)\n",
        "      axs[i].imshow(image)\n",
        "      axs[i].set_title(\"True Label = {0}, \\n Predicted label = {1}\".format(class_names[true_index], class_names[predicted_index]))\n",
        "      axs[i].get_xaxis().set_visible(False)\n",
        "      axs[i].get_yaxis().set_visible(False)\n",
        "\n",
        "\n",
        "  #------------------------------ Evaluate model on testing dataset -----------------------------------#\n",
        "  _, acc = model.evaluate(x_test, y_test, verbose=0)\n",
        "  print(\"Testing Accuracy = {}\".format(acc))"
      ],
      "execution_count": null,
      "outputs": []
    },
    {
      "cell_type": "code",
      "metadata": {
        "id": "1eAd5vkkppQ0"
      },
      "source": [
        "#------------------------------ Evaluate and compare the several models on testing dataset -----------------------------------#\n",
        "for network in args['networks']:\n",
        "  #Load last model parameters\n",
        "  last_model_file = '{}/last_{}.h5'.format(args['models_dir'], network)\n",
        "  print(last_model_file)\n",
        "  model.load_weights(last_model_file, by_name=True)\n",
        "\n",
        "  #------------------------------ Evaluate model on testing dataset -----------------------------------#\n",
        "  accuracies = {}\n",
        "  _, acc = model.evaluate(x_test, y_test, verbose=0)\n",
        "  print(\"Testing Accuracy = {}\".format(acc))  \n",
        "  accuracies['netwokr'] = acc\n",
        "\n",
        "\n",
        "\n",
        "epochs_range = range(len(acc))\n",
        "\n",
        "plt.figure(figsize=(15, 15))\n",
        "for model_name in accuracies:\n",
        "  plt.plot(epochs_range, accuracies[model_name], label=model_name)\n",
        "  plt.legend(loc='lower right')\n",
        "plt.title('Testing Accuracy')\n",
        "\n",
        "\n",
        "# save plot to file\n",
        "filename = \"test_accuracy\"\n",
        "plt.savefig(filename + '_plot.png')\n",
        "plt.show()\n",
        "plt.close()"
      ],
      "execution_count": null,
      "outputs": []
    },
    {
      "cell_type": "markdown",
      "metadata": {
        "id": "GfrD3I1TYU8L"
      },
      "source": [
        "**Future Work**\n",
        "\n",
        "In this project I applied transfer learning to several pre-trained models and train added fully connected layer parameters with the new dataset. However I could fine-tune "
      ]
    },
    {
      "cell_type": "code",
      "metadata": {
        "id": "LPWtblE5YWzW"
      },
      "source": [
        ""
      ],
      "execution_count": null,
      "outputs": []
    }
  ]
}