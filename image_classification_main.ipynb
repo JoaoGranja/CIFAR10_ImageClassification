{
 "cells": [
  {
   "cell_type": "markdown",
   "metadata": {
    "colab_type": "text",
    "id": "view-in-github"
   },
   "source": [
    "<a href=\"https://colab.research.google.com/github/JoaoGranja/CIFAR10_ImageClassification/blob/master/image_classification_main.ipynb\" target=\"_parent\"><img src=\"https://colab.research.google.com/assets/colab-badge.svg\" alt=\"Open In Colab\"/></a>"
   ]
  },
  {
   "cell_type": "code",
   "execution_count": 1,
   "metadata": {
    "id": "fug7eGzTzLbg"
   },
   "outputs": [],
   "source": [
    "import numpy as np # linear algebra\n",
    "import pandas as pd # data processing, CSV file I/O (e.g. pd.read_csv)\n",
    "import os\n",
    "is_colab = False"
   ]
  },
  {
   "cell_type": "markdown",
   "metadata": {},
   "source": [
    "\n",
    "# **Colab Preparation** \n",
    "Before handling the project, we need to install keras and pip packages. I also share my google drive to simplify the connection with my google drive account.\n",
    "\n"
   ]
  },
  {
   "cell_type": "code",
   "execution_count": 2,
   "metadata": {},
   "outputs": [],
   "source": [
    "if is_colab:\n",
    "    #Package Installation and share Google Drive\n",
    "    !pip install --upgrade pip\n",
    "    !pip install --upgrade keras\n",
    "    !pip install keras-resnet\n",
    "\n",
    "    from google.colab import drive\n",
    "    drive.mount('/content/drive')"
   ]
  },
  {
   "cell_type": "markdown",
   "metadata": {
    "id": "NToyjnZ4Uc2k"
   },
   "source": [
    " # **Configuration and imports**\n",
    "\n",
    "First thing I do is to import all modules we need for this project. I also use some configuration parameters to be used through the project\n",
    "\n",
    "In this project I will be making use of the Keras library for creating our model and training it. I will also use Matplotlib and Seaborn for visualizing our dataset to gain a better understanding of the images we are going to be handling. Another important library to handle image data is Opencv.\n",
    "\n"
   ]
  },
  {
   "cell_type": "code",
   "execution_count": 3,
   "metadata": {
    "colab": {
     "base_uri": "https://localhost:8080/"
    },
    "id": "Rk78b8REzLbl",
    "outputId": "22533a9c-0dfb-4674-b3f4-8c525aadc4b3"
   },
   "outputs": [],
   "source": [
    "# Generic Imports\n",
    "import time\n",
    "import gc\n",
    "import logging, os\n",
    "import sys\n",
    "import random\n",
    "import warnings\n",
    "import pickle\n",
    "from math import ceil\n",
    "from tqdm import tqdm\n",
    "from itertools import chain\n",
    "\n",
    "# data processing and visualization library\n",
    "import numpy as np\n",
    "import pandas as pd\n",
    "import seaborn as sns\n",
    "import matplotlib.pyplot as plt\n",
    "\n",
    "# image procesing library\n",
    "from skimage.io import imread, imshow, imread_collection, concatenate_images\n",
    "from skimage.transform import resize\n",
    "from skimage.morphology import label\n",
    "import cv2 \n",
    "\n",
    "# tensorflow and keras for CNN model\n",
    "import tensorflow as tf\n",
    "logging.disable(logging.WARNING)\n",
    "os.environ[\"TF_CPP_MIN_LOG_LEVEL\"] = \"3\"\n",
    "\n",
    "import keras\n",
    "from keras.models import Model, load_model, Sequential\n",
    "from keras.callbacks import EarlyStopping, ModelCheckpoint, TensorBoard, ReduceLROnPlateau\n",
    "from keras.optimizers import RMSprop, Adam, SGD\n",
    "from keras import backend as K\n",
    "from keras.losses import categorical_crossentropy, sparse_categorical_crossentropy\n",
    "from keras.datasets import cifar10\n",
    "#from keras.utils import multi_gpu_model\n",
    "from keras.preprocessing.image import Iterator, load_img, img_to_array\n",
    "\n",
    "if is_colab:\n",
    "    from google.colab import files\n",
    "    \n",
    "#------------------------------  Set some configuration parameters -----------------------------------#\n",
    "args = {}\n",
    "args['seed'] = 42\n",
    "args['data_augmentation'] = False\n",
    "\n",
    "#training arguments\n",
    "args['batch_size'] = 32\n",
    "args['epochs'] = 5\n",
    "args['validation_split'] = 0.2\n",
    "\n",
    "#model arguments\n",
    "#args['network'] = 'LeNet'\n",
    "#args['network'] = 'resnet50'\n",
    "args['network'] = 'VGG19'\n",
    "\n",
    "#optimizer arguments\n",
    "#args['optimizer'] = 'adam'\n",
    "args['learning_rate'] = 0.01  \n",
    "args['decay'] = 0.0001\n",
    "args['loss'] = 'sparse_categorical_crossentropy'\n",
    "\n",
    "warnings.filterwarnings('ignore', category=UserWarning, module='skimage')"
   ]
  },
  {
   "cell_type": "markdown",
   "metadata": {},
   "source": [
    "## Loading the dataset\n",
    "\n",
    "In this project I will use the CIFAR10 dataset which is comprised of 60000 32x32 color images in 10 classes, with 6000 images per class. There are 50000 training images and 10000 test images. The class labels and their standard associated integer values are listed below. More information is available on [CIFAR homepage](https://www.cs.toronto.edu/~kriz/cifar.html)\n",
    "\n",
    "<ul>\n",
    "<li> 0: airplane </li>\n",
    "<li> 1: automobile </li>\n",
    "<li> 2: bird </li>\n",
    "<li> 3: cat </li>\n",
    "<li> 4: deer </li>\n",
    "<li> 5: dog </li>\n",
    "<li> 6: frog </li>\n",
    "<li> 7: horse </li>\n",
    "<li> 8: ship </li>\n",
    "<li> 9: truck </li>\n",
    "</ul>"
   ]
  },
  {
   "cell_type": "code",
   "execution_count": 4,
   "metadata": {},
   "outputs": [],
   "source": [
    "def unpickle(file):\n",
    "    with open(file, 'rb') as data:\n",
    "        dataset = pickle.load(data)\n",
    "    return dataset"
   ]
  },
  {
   "cell_type": "code",
   "execution_count": 5,
   "metadata": {},
   "outputs": [
    {
     "name": "stdout",
     "output_type": "stream",
     "text": [
      "Train dataset: x=(50000, 32, 32, 3) y=(50000, 1)\n",
      "Test dataset: x=(10000, 32, 32, 3) y=(10000, 1)\n",
      "Image data shape = (32, 32, 3)\n",
      "Number of classes = 10\n"
     ]
    }
   ],
   "source": [
    "#------------------------------  Load dataset using keras.dataset API -----------------------------------#\n",
    "download_dataset = False\n",
    "if download_dataset:\n",
    "    (x_train, y_train), (x_test, y_test) = cifar10.load_data()\n",
    "    dataset = {}\n",
    "    dataset['x_train'], dataset['y_train'], dataset['x_test'], dataset['y_test'] = x_train, y_train, x_test, y_test\n",
    "    with open('dataset/cifar10.pickle', 'wb') as output:\n",
    "        pickle.dump(dataset, output)\n",
    "else:\n",
    "    dataset = unpickle('dataset/cifar10.pickle')\n",
    "    #(x_train, y_train), (x_test, y_test) = (dataset['x_train'][:5000], dataset['y_train'][:5000]), (dataset['x_test'][:1000], dataset['y_test'][:1000])\n",
    "    (x_train, y_train), (x_test, y_test) = (dataset['x_train'], dataset['y_train']), (dataset['x_test'], dataset['y_test'])\n",
    "\n",
    "\n",
    "#Check train and test dataset shape\n",
    "print(\"Train dataset: x={} y={}\".format(x_train.shape, y_train.shape))\n",
    "print(\"Test dataset: x={} y={}\".format(x_test.shape, y_test.shape))\n",
    "\n",
    "#Check number of classes and image shape\n",
    "print(\"Image data shape =\", x_train.shape[1:])\n",
    "print(\"Number of classes =\",  len(np.unique(y_train)))\n",
    "\n",
    "#Class dictionary with classes names\n",
    "class_names = {}\n",
    "class_names[0] = 'airplane'\n",
    "class_names[1] = 'automobile'\n",
    "class_names[2] = 'bird'\n",
    "class_names[3] = 'cat'\n",
    "class_names[4] = 'deer'\n",
    "class_names[5] = 'dog'\n",
    "class_names[6] = 'frog'\n",
    "class_names[7] = 'horse'\n",
    "class_names[8] = 'ship'\n",
    "class_names[9] = 'truck'"
   ]
  },
  {
   "cell_type": "code",
   "execution_count": 6,
   "metadata": {},
   "outputs": [
    {
     "data": {
      "image/png": "[encoded data removed]",
      "text/plain": [
       "<Figure size 864x864 with 5 Axes>"
      ]
     },
     "metadata": {
      "needs_background": "light"
     },
     "output_type": "display_data"
    }
   ],
   "source": [
    "#------------------------------ Plot random images and respective labels -----------------------------------#\n",
    "n_images = 5\n",
    "fig, axs = plt.subplots(1, n_images, figsize=(12, 12))\n",
    "fig.tight_layout(pad=1.0)\n",
    "   \n",
    "for i in range(n_images):\n",
    "    index = random.randint(0, len(x_train))\n",
    "    image = x_train[index].squeeze()\n",
    "\n",
    "    axs[i].imshow(image)\n",
    "    axs[i].set_title(\"Label = {0}\".format(class_names[int(y_train[index])]))\n",
    "    axs[i].get_xaxis().set_visible(False)\n",
    "    axs[i].get_yaxis().set_visible(False)\n"
   ]
  },
  {
   "cell_type": "markdown",
   "metadata": {},
   "source": [
    "Analyzing the images it is clear that the images resolution is small, actually 32x32 has few pixels and therefore can be a challenge for a model to classify correctly the object. Furthermore all image has the same size so it is not required to resize the input images."
   ]
  },
  {
   "cell_type": "markdown",
   "metadata": {
    "id": "Q9i_voo8zLbs"
   },
   "source": [
    "# **Pre-processing the train and test dataset**"
   ]
  },
  {
   "cell_type": "code",
   "execution_count": 7,
   "metadata": {},
   "outputs": [],
   "source": [
    "from aug.functional import transform_image, normalize_image\n",
    "x_train_ = x_train\n",
    "y_train_ = y_train\n",
    "\n",
    "#------------------------------ Random data augmentation -----------------------------------#\n",
    "if args['data_augmentation']:\n",
    "    data_aug_samples = 3\n",
    "    for i in range(data_aug_samples):\n",
    "        x_train_ = np.vstack((x_train_,transform_image(x_train)))\n",
    "        y_train_ = np.vstack((y_train_,y_train))\n",
    "\n",
    "    #Check train dataset shape\n",
    "    print(\"Train dataset: x={} y={}\".format(x_train_norm.shape, y_train_.shape))\n",
    "\n",
    "#------------------------------ Normalization of images dataset -----------------------------------#\n",
    "x_test_norm = normalize_image(x_test)\n",
    "x_train_norm = normalize_image(x_train_)\n",
    "\n",
    "#------------------------------ Remove old varibles -----------------------------------#\n",
    "del x_test, x_train, y_train\n",
    "x_train, y_train, x_test = x_train_norm, y_train_, x_test_norm\n",
    "del x_train_norm, y_train_, x_test_norm\n",
    "gc.collect"
   ]
  },
  {
   "cell_type": "markdown",
   "metadata": {
    "id": "_QCnufRUl-Z5"
   },
   "source": [
    "# **Optimizer**\n",
    "\n",
    "Before training it is necessary to choose an optimizer which will be responsible to adjust model parameters in order to reduce the loss funcion"
   ]
  },
  {
   "cell_type": "code",
   "execution_count": 8,
   "metadata": {
    "id": "INAQZOJSphOA"
   },
   "outputs": [],
   "source": [
    "#------------------------------ Define an optimizer -----------------------------------#\n",
    "if 'optimizer' in args:\n",
    "    if args['optimizer'] == 'rmsprop':\n",
    "        optimizer = RMSprop(learning_rate=args['learning_rate'], decay=float(args['decay']))\n",
    "    elif args['optimizer'] == 'adam':\n",
    "        optimizer = Adam(learning_rate=args['learning_rate'], decay=float(args['decay']))\n",
    "    elif args['optimizer'] == 'amsgrad':\n",
    "        optimizer = Adam(learning_rate=args['learning_rate'], decay=float(args['decay']), amsgrad=True)\n",
    "    elif args['optimizer'] == 'sgd':\n",
    "        optimizer = SGD(learning_rate=args['learning_rate'], momentum=0.9, nesterov=True, decay=float(args['decay']))\n",
    "else:\n",
    "    optimizer = RMSprop(learning_rate=args['learning_rate'])"
   ]
  },
  {
   "cell_type": "markdown",
   "metadata": {},
   "source": [
    "# **Model**\n",
    "\n",
    "In this project, I will first use a simple CNN model following the LeNet architecture."
   ]
  },
  {
   "cell_type": "code",
   "execution_count": 9,
   "metadata": {
    "colab": {
     "base_uri": "https://localhost:8080/"
    },
    "id": "gd5VM-R-Su0_",
    "outputId": "5e105b36-a5a2-4f26-d175-93da88593761"
   },
   "outputs": [
    {
     "name": "stdout",
     "output_type": "stream",
     "text": [
      "No weights passed, training from scratch\n",
      "Model: \"model\"\n",
      "_________________________________________________________________\n",
      "Layer (type)                 Output Shape              Param #   \n",
      "=================================================================\n",
      "input_1 (InputLayer)         [(None, 32, 32, 3)]       0         \n",
      "_________________________________________________________________\n",
      "tf.nn.convolution (TFOpLambd (None, 32, 32, 64)        0         \n",
      "_________________________________________________________________\n",
      "tf.nn.bias_add (TFOpLambda)  (None, 32, 32, 64)        0         \n",
      "_________________________________________________________________\n",
      "tf.nn.relu (TFOpLambda)      (None, 32, 32, 64)        0         \n",
      "_________________________________________________________________\n",
      "tf.nn.convolution_1 (TFOpLam (None, 32, 32, 64)        0         \n",
      "_________________________________________________________________\n",
      "tf.nn.bias_add_1 (TFOpLambda (None, 32, 32, 64)        0         \n",
      "_________________________________________________________________\n",
      "tf.nn.relu_1 (TFOpLambda)    (None, 32, 32, 64)        0         \n",
      "_________________________________________________________________\n",
      "tf.compat.v1.nn.max_pool (TF (None, 16, 16, 64)        0         \n",
      "_________________________________________________________________\n",
      "tf.nn.convolution_2 (TFOpLam (None, 16, 16, 128)       0         \n",
      "_________________________________________________________________\n",
      "tf.nn.bias_add_2 (TFOpLambda (None, 16, 16, 128)       0         \n",
      "_________________________________________________________________\n",
      "tf.nn.relu_2 (TFOpLambda)    (None, 16, 16, 128)       0         \n",
      "_________________________________________________________________\n",
      "tf.nn.convolution_3 (TFOpLam (None, 16, 16, 128)       0         \n",
      "_________________________________________________________________\n",
      "tf.nn.bias_add_3 (TFOpLambda (None, 16, 16, 128)       0         \n",
      "_________________________________________________________________\n",
      "tf.nn.relu_3 (TFOpLambda)    (None, 16, 16, 128)       0         \n",
      "_________________________________________________________________\n",
      "tf.compat.v1.nn.max_pool_1 ( (None, 8, 8, 128)         0         \n",
      "_________________________________________________________________\n",
      "tf.nn.convolution_4 (TFOpLam (None, 8, 8, 256)         0         \n",
      "_________________________________________________________________\n",
      "tf.nn.bias_add_4 (TFOpLambda (None, 8, 8, 256)         0         \n",
      "_________________________________________________________________\n",
      "tf.nn.relu_4 (TFOpLambda)    (None, 8, 8, 256)         0         \n",
      "_________________________________________________________________\n",
      "tf.nn.convolution_5 (TFOpLam (None, 8, 8, 256)         0         \n",
      "_________________________________________________________________\n",
      "tf.nn.bias_add_5 (TFOpLambda (None, 8, 8, 256)         0         \n",
      "_________________________________________________________________\n",
      "tf.nn.relu_5 (TFOpLambda)    (None, 8, 8, 256)         0         \n",
      "_________________________________________________________________\n",
      "tf.nn.convolution_6 (TFOpLam (None, 8, 8, 256)         0         \n",
      "_________________________________________________________________\n",
      "tf.nn.bias_add_6 (TFOpLambda (None, 8, 8, 256)         0         \n",
      "_________________________________________________________________\n",
      "tf.nn.relu_6 (TFOpLambda)    (None, 8, 8, 256)         0         \n",
      "_________________________________________________________________\n",
      "tf.nn.convolution_7 (TFOpLam (None, 8, 8, 256)         0         \n",
      "_________________________________________________________________\n",
      "tf.nn.bias_add_7 (TFOpLambda (None, 8, 8, 256)         0         \n",
      "_________________________________________________________________\n",
      "tf.nn.relu_7 (TFOpLambda)    (None, 8, 8, 256)         0         \n",
      "_________________________________________________________________\n",
      "tf.compat.v1.nn.max_pool_2 ( (None, 4, 4, 256)         0         \n",
      "_________________________________________________________________\n",
      "tf.nn.convolution_8 (TFOpLam (None, 4, 4, 512)         0         \n",
      "_________________________________________________________________\n",
      "tf.nn.bias_add_8 (TFOpLambda (None, 4, 4, 512)         0         \n",
      "_________________________________________________________________\n",
      "tf.nn.relu_8 (TFOpLambda)    (None, 4, 4, 512)         0         \n",
      "_________________________________________________________________\n",
      "tf.nn.convolution_9 (TFOpLam (None, 4, 4, 512)         0         \n",
      "_________________________________________________________________\n",
      "tf.nn.bias_add_9 (TFOpLambda (None, 4, 4, 512)         0         \n",
      "_________________________________________________________________\n",
      "tf.nn.relu_9 (TFOpLambda)    (None, 4, 4, 512)         0         \n",
      "_________________________________________________________________\n",
      "tf.nn.convolution_10 (TFOpLa (None, 4, 4, 512)         0         \n",
      "_________________________________________________________________\n",
      "tf.nn.bias_add_10 (TFOpLambd (None, 4, 4, 512)         0         \n",
      "_________________________________________________________________\n",
      "tf.nn.relu_10 (TFOpLambda)   (None, 4, 4, 512)         0         \n",
      "_________________________________________________________________\n",
      "tf.nn.convolution_11 (TFOpLa (None, 4, 4, 512)         0         \n",
      "_________________________________________________________________\n",
      "tf.nn.bias_add_11 (TFOpLambd (None, 4, 4, 512)         0         \n",
      "_________________________________________________________________\n",
      "tf.nn.relu_11 (TFOpLambda)   (None, 4, 4, 512)         0         \n",
      "_________________________________________________________________\n",
      "tf.compat.v1.nn.max_pool_3 ( (None, 2, 2, 512)         0         \n",
      "_________________________________________________________________\n",
      "tf.nn.convolution_12 (TFOpLa (None, 2, 2, 512)         0         \n",
      "_________________________________________________________________\n",
      "tf.nn.bias_add_12 (TFOpLambd (None, 2, 2, 512)         0         \n",
      "_________________________________________________________________\n",
      "tf.nn.relu_12 (TFOpLambda)   (None, 2, 2, 512)         0         \n",
      "_________________________________________________________________\n",
      "tf.nn.convolution_13 (TFOpLa (None, 2, 2, 512)         0         \n",
      "_________________________________________________________________\n",
      "tf.nn.bias_add_13 (TFOpLambd (None, 2, 2, 512)         0         \n",
      "_________________________________________________________________\n",
      "tf.nn.relu_13 (TFOpLambda)   (None, 2, 2, 512)         0         \n",
      "_________________________________________________________________\n",
      "tf.nn.convolution_14 (TFOpLa (None, 2, 2, 512)         0         \n",
      "_________________________________________________________________\n",
      "tf.nn.bias_add_14 (TFOpLambd (None, 2, 2, 512)         0         \n",
      "_________________________________________________________________\n",
      "tf.nn.relu_14 (TFOpLambda)   (None, 2, 2, 512)         0         \n",
      "_________________________________________________________________\n",
      "tf.nn.convolution_15 (TFOpLa (None, 2, 2, 512)         0         \n",
      "_________________________________________________________________\n",
      "tf.nn.bias_add_15 (TFOpLambd (None, 2, 2, 512)         0         \n",
      "_________________________________________________________________\n",
      "tf.nn.relu_15 (TFOpLambda)   (None, 2, 2, 512)         0         \n",
      "_________________________________________________________________\n",
      "tf.compat.v1.nn.max_pool_4 ( (None, 1, 1, 512)         0         \n",
      "_________________________________________________________________\n",
      "flatten (Flatten)            (None, 512)               0         \n",
      "_________________________________________________________________\n",
      "dense (Dense)                (None, 10)                5130      \n",
      "=================================================================\n",
      "Total params: 5,130\n",
      "Trainable params: 5,130\n",
      "Non-trainable params: 0\n",
      "_________________________________________________________________\n"
     ]
    }
   ],
   "source": [
    "from models.model_factory import make_model\n",
    "\n",
    "#------------------------------ Make the model -----------------------------------#\n",
    "if 'multi_gpu' in args:\n",
    "    with K.tf.device(\"/cpu:0\"):\n",
    "        model = make_model(args['network'], x_train.shape[1:])\n",
    "else:\n",
    "    model = make_model(args['network'], x_train.shape[1:], len(np.unique(y_train)))\n",
    "    \n",
    "if 'weights' not in args:\n",
    "    print('No weights passed, training from scratch')\n",
    "else:\n",
    "    weights_path = args['weights']\n",
    "    print('Loading weights from {}'.format(weights_path))\n",
    "    model.load_weights(weights_path, by_name=True)\n",
    "\n",
    "#------------------------------ Compile the model -----------------------------------#\n",
    "model.compile(loss=args['loss'], optimizer=optimizer, metrics=['accuracy']) \n",
    "model.summary()"
   ]
  },
  {
   "cell_type": "markdown",
   "metadata": {
    "id": "mSADHpegzLb-"
   },
   "source": [
    "# **Training**"
   ]
  },
  {
   "cell_type": "code",
   "execution_count": 10,
   "metadata": {
    "colab": {
     "base_uri": "https://localhost:8080/"
    },
    "id": "cSWGGh32Svnu",
    "outputId": "e324575f-e5f2-4571-a2e1-643a8ea6bd12"
   },
   "outputs": [
    {
     "name": "stdout",
     "output_type": "stream",
     "text": [
      "Epoch 1/5\n",
      "1250/1250 [==============================] - 472s 361ms/step - loss: 1.4464 - accuracy: 0.5032 - val_loss: 1.2709 - val_accuracy: 0.5757\n",
      "\n",
      "Epoch 00001: saving model to nn_models_checkpoints/last_VGG19.h5\n",
      "\n",
      "Epoch 00001: val_loss improved from inf to 1.27088, saving model to nn_models_checkpoints/best_VGG19.h5\n",
      "Epoch 2/5\n",
      "1250/1250 [==============================] - 413s 331ms/step - loss: 1.2449 - accuracy: 0.5830 - val_loss: 1.2894 - val_accuracy: 0.5794\n",
      "\n",
      "Epoch 00002: saving model to nn_models_checkpoints/last_VGG19.h5\n",
      "\n",
      "Epoch 00002: val_loss did not improve from 1.27088\n",
      "Epoch 3/5\n",
      "1250/1250 [==============================] - 446s 357ms/step - loss: 1.2365 - accuracy: 0.5955 - val_loss: 1.3757 - val_accuracy: 0.5645\n",
      "\n",
      "Epoch 00003: saving model to nn_models_checkpoints/last_VGG19.h5\n",
      "\n",
      "Epoch 00003: val_loss did not improve from 1.27088\n",
      "Epoch 4/5\n",
      "1250/1250 [==============================] - 430s 344ms/step - loss: 1.2350 - accuracy: 0.5965 - val_loss: 1.2923 - val_accuracy: 0.5856\n",
      "\n",
      "Epoch 00004: saving model to nn_models_checkpoints/last_VGG19.h5\n",
      "\n",
      "Epoch 00004: val_loss did not improve from 1.27088\n",
      "Epoch 5/5\n",
      "1250/1250 [==============================] - 427s 341ms/step - loss: 1.0808 - accuracy: 0.6395 - val_loss: 1.1832 - val_accuracy: 0.6145\n",
      "\n",
      "Epoch 00005: saving model to nn_models_checkpoints/last_VGG19.h5\n",
      "\n",
      "Epoch 00005: val_loss improved from 1.27088 to 1.18322, saving model to nn_models_checkpoints/best_VGG19.h5\n"
     ]
    }
   ],
   "source": [
    "#------------------------------ Model check points -----------------------------------#\n",
    "args['models_dir'] = 'nn_models_checkpoints'\n",
    "best_model_file = '{}/best_{}.h5'.format(args['models_dir'], args['network'])\n",
    "last_model_file = '{}/last_{}.h5'.format(args['models_dir'], args['network'])\n",
    "\n",
    "#------------------------------ Callbacks -----------------------------------#\n",
    "callbacks = [\n",
    "        # Callback to reduce the learning rate once the plateau has been reached:\n",
    "        ReduceLROnPlateau(\n",
    "            factor=0.1,\n",
    "            patience=3,\n",
    "            mode='auto',\n",
    "            cooldown=0,\n",
    "            min_lr=1e-8\n",
    "        ),\n",
    "        # Callback to stop the training once no more improvements are recorded:\n",
    "        EarlyStopping(\n",
    "            min_delta=0.001,\n",
    "            patience=4,\n",
    "            mode='auto',\n",
    "            restore_best_weights=True\n",
    "        ),\n",
    "        # Callback to log the graph, losses and metrics into TensorBoard:\n",
    "        TensorBoard(log_dir=\"logs/{}\".format(args['network'])\n",
    "        ),\n",
    "        # Callback to save the best and last model specifying the epoch and val-loss in the filename:\n",
    "        ModelCheckpoint(filepath=last_model_file, \n",
    "            monitor='val_loss',\n",
    "            verbose=1,\n",
    "            mode='min',\n",
    "            save_freq='epoch',\n",
    "            save_best_only=False,\n",
    "            save_weights_only=True\n",
    "        ),\n",
    "        ModelCheckpoint(filepath=best_model_file, \n",
    "            monitor='val_loss',\n",
    "            verbose=1,\n",
    "            mode='min',\n",
    "            save_freq='epoch',\n",
    "            save_best_only=True,\n",
    "            save_weights_only=True)\n",
    "    ]\n",
    "\n",
    "#------------------------------ Model Fit -----------------------------------#\n",
    "history = model.fit(x_train, y_train,\n",
    "                    validation_split=args['validation_split'],\n",
    "                    epochs=args['epochs'], \n",
    "                    batch_size=args['batch_size'], \n",
    "                    verbose=1,\n",
    "                    callbacks=callbacks)"
   ]
  },
  {
   "cell_type": "markdown",
   "metadata": {
    "id": "lI4rNBwYgXwv"
   },
   "source": [
    "# **Visualise Model Results**"
   ]
  },
  {
   "cell_type": "code",
   "execution_count": 11,
   "metadata": {},
   "outputs": [
    {
     "data": {
      "image/png": "[encoded data removed]",
      "text/plain": [
       "<Figure size 1080x1080 with 2 Axes>"
      ]
     },
     "metadata": {
      "needs_background": "light"
     },
     "output_type": "display_data"
    }
   ],
   "source": [
    "#------------------------------ Plot diagnostic learning curves -----------------------------------#\n",
    "def summarize_diagnostics(history):\n",
    "    # plot loss\n",
    "    acc = history.history['accuracy']\n",
    "    val_acc = history.history['val_accuracy']\n",
    "    loss = history.history['loss']\n",
    "    val_loss = history.history['val_loss']\n",
    "\n",
    "    epochs_range = range(args['epochs'])\n",
    "\n",
    "    plt.figure(figsize=(15, 15))\n",
    "    plt.subplot(2, 2, 1)\n",
    "    plt.plot(epochs_range, acc, label='Training Accuracy')\n",
    "    plt.plot(epochs_range, val_acc, label='Validation Accuracy')\n",
    "    plt.legend(loc='lower right')\n",
    "    plt.title('Training and Validation Accuracy')\n",
    "\n",
    "    plt.subplot(2, 2, 2)\n",
    "    plt.plot(epochs_range, loss, label='Training Loss')\n",
    "    plt.plot(epochs_range, val_loss, label='Validation Loss')\n",
    "    plt.legend(loc='upper right')\n",
    "    plt.title('Training and Validation Loss')\n",
    "    # save plot to file\n",
    "    filename = \"accuracy\"\n",
    "    plt.savefig(filename + '_plot.png')\n",
    "    plt.show()\n",
    "    plt.close()\n",
    "    \n",
    "summarize_diagnostics(history)\n"
   ]
  },
  {
   "cell_type": "markdown",
   "metadata": {
    "id": "rg9NFaPNzLcH"
   },
   "source": [
    "# **Evaluation**\n",
    "\n",
    "Evaluate the model over the test dataset. We will use the last model weights and predict the class for some test images"
   ]
  },
  {
   "cell_type": "code",
   "execution_count": 12,
   "metadata": {},
   "outputs": [
    {
     "name": "stdout",
     "output_type": "stream",
     "text": [
      "nn_models_checkpoints/last_VGG19.h5\n"
     ]
    },
    {
     "data": {
      "image/png": "[encoded data removed]",
      "text/plain": [
       "<Figure size 864x864 with 5 Axes>"
      ]
     },
     "metadata": {
      "needs_background": "light"
     },
     "output_type": "display_data"
    }
   ],
   "source": [
    "#------------------------------ Predict on some test images -----------------------------------#\n",
    "\n",
    "#Load last model parameters\n",
    "print(last_model_file)\n",
    "model.load_weights(last_model_file, by_name=True)\n",
    "\n",
    "#Try out the model on an image from the test data:\n",
    "n_images = 5\n",
    "fig, axs = plt.subplots(1, n_images, figsize=(12, 12))\n",
    "fig.tight_layout(pad=1.0)\n",
    "\n",
    "        \n",
    "# View the images\n",
    "for i in range(n_images):\n",
    "    index = random.randint(0, len(x_test))\n",
    "    image = x_test[index].squeeze()\n",
    "    true_index = int(y_test[index])\n",
    "\n",
    "    prediction_scores = model.predict(np.expand_dims(image, axis=0))\n",
    "    predicted_index = np.argmax(prediction_scores)\n",
    "    \n",
    "    image = np.add(image*128,128).astype(int)\n",
    "    axs[i].imshow(image)\n",
    "    axs[i].set_title(\"True Label = {0}, \\n Predicted label = {1}\".format(class_names[true_index], class_names[predicted_index]))\n",
    "    axs[i].get_xaxis().set_visible(False)\n",
    "    axs[i].get_yaxis().set_visible(False)\n",
    "\n"
   ]
  },
  {
   "cell_type": "code",
   "execution_count": null,
   "metadata": {},
   "outputs": [
    {
     "name": "stdout",
     "output_type": "stream",
     "text": [
      "Training Accuracy = 0.6419000029563904\n"
     ]
    }
   ],
   "source": [
    "#------------------------------ Evaluate model on training and testing dataset -----------------------------------#\n",
    "\n",
    "_, acc = model.evaluate(x_train, y_train, verbose=0)\n",
    "print(\"Training Accuracy = {}\".format(acc))\n",
    "\n",
    "_, acc = model.evaluate(x_test, y_test, verbose=0)\n",
    "print(\"Testing Accuracy = {}\".format(acc))"
   ]
  },
  {
   "cell_type": "code",
   "execution_count": null,
   "metadata": {},
   "outputs": [],
   "source": []
  }
 ],
 "metadata": {
  "accelerator": "GPU",
  "colab": {
   "collapsed_sections": [],
   "include_colab_link": true,
   "name": "DataScience_Bowl_2018.ipynb",
   "provenance": []
  },
  "kernelspec": {
   "display_name": "Python 3",
   "language": "python",
   "name": "python3"
  },
  "language_info": {
   "codemirror_mode": {
    "name": "ipython",
    "version": 3
   },
   "file_extension": ".py",
   "mimetype": "text/x-python",
   "name": "python",
   "nbconvert_exporter": "python",
   "pygments_lexer": "ipython3",
   "version": "3.6.10"
  }
 },
 "nbformat": 4,
 "nbformat_minor": 4
}
